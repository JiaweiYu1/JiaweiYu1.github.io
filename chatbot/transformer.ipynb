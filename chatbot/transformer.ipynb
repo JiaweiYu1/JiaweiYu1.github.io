{
  "nbformat": 4,
  "nbformat_minor": 0,
  "metadata": {
    "colab": {
      "name": "transformer.ipynb",
      "version": "0.3.2",
      "provenance": [],
      "collapsed_sections": []
    },
    "kernelspec": {
      "name": "python3",
      "display_name": "Python 3"
    },
    "accelerator": "GPU"
  },
  "cells": [
    {
      "cell_type": "code",
      "metadata": {
        "id": "A9EH8Vlmh3Ps",
        "colab_type": "code",
        "colab": {}
      },
      "source": [
        "import numpy as np\n",
        "import tensorflow as tf\n",
        "from sklearn.utils import shuffle\n",
        "import re\n",
        "import time\n",
        "import collections\n",
        "import os\n",
        "from sklearn.model_selection import train_test_split\n",
        "from nltk.translate.bleu_score import sentence_bleu"
      ],
      "execution_count": 0,
      "outputs": []
    },
    {
      "cell_type": "code",
      "metadata": {
        "id": "CxHC0CUsXaI8",
        "colab_type": "code",
        "outputId": "9debf7fa-0382-4076-dd46-7f5232200ef0",
        "colab": {
          "base_uri": "https://localhost:8080/",
          "height": 51
        }
      },
      "source": [
        "from google.colab import drive\n",
        "drive.mount('/content/drive/')\n",
        "\n",
        "import os\n",
        "os.chdir(\"/content/drive/My Drive/Colab_Notebooks/robot/\")\n",
        "cwd = os.getcwd()\n",
        "print(cwd)"
      ],
      "execution_count": 2,
      "outputs": [
        {
          "output_type": "stream",
          "text": [
            "Drive already mounted at /content/drive/; to attempt to forcibly remount, call drive.mount(\"/content/drive/\", force_remount=True).\n",
            "/content/drive/My Drive/Colab_Notebooks/robot\n"
          ],
          "name": "stdout"
        }
      ]
    },
    {
      "cell_type": "code",
      "metadata": {
        "id": "XzPW2eyOUyF4",
        "colab_type": "code",
        "colab": {}
      },
      "source": [
        "def build_dataset(words, n_words, atleast=1):\n",
        "  count =[['PAD', 0],['GO',1], ['EOS',2],['UNK',3]]\n",
        "  \n",
        "  counter = collections.Counter(words).most_common(n_words)\n",
        "  counter = [i for i in counter if i[1] >=atleast]\n",
        "  count.extend(counter)\n",
        "  dictionary = dict()\n",
        "  for word, _ in count:\n",
        "    dictionary[word]=len(dictionary)\n",
        "  data = list()\n",
        "  unk_count=0\n",
        "  for word in words:\n",
        "    index = dictionary.get(word, 0)\n",
        "    if index==0:\n",
        "      unk_count+=1\n",
        "    data.append(index)\n",
        "  count[0][1]=unk_count\n",
        "  \n",
        "  reversed_dictionary = dict(zip(dictionary.values(), dictionary.keys()))\n",
        "  \n",
        "  return data, count, dictionary, reversed_dictionary\n",
        "  "
      ],
      "execution_count": 0,
      "outputs": []
    },
    {
      "cell_type": "code",
      "metadata": {
        "id": "AsZZ9y84UyBW",
        "colab_type": "code",
        "colab": {}
      },
      "source": [
        "lines = open('chat_box_dataset/movie_lines.txt', encoding='utf-8', errors='ignore').read().split('\\n')\n",
        "conv_lines = open('chat_box_dataset/movie_conversations.txt', encoding='utf-8', errors='ignore').read().split('\\n')\n",
        "\n",
        "id2line = {}\n",
        "for line in lines:\n",
        "    _line = line.split(' +++$+++ ')\n",
        "    if len(_line) == 5:\n",
        "        id2line[_line[0]] = _line[4]\n",
        "        \n",
        "convs = [ ]\n",
        "for line in conv_lines[:-1]:\n",
        "    _line = line.split(' +++$+++ ')[-1][1:-1].replace(\"'\",\"\").replace(\" \",\"\")\n",
        "    convs.append(_line.split(','))\n",
        "    \n",
        "questions = []\n",
        "answers = []\n",
        "\n",
        "for conv in convs:\n",
        "    for i in range(len(conv)-1):\n",
        "        questions.append(id2line[conv[i]])\n",
        "        answers.append(id2line[conv[i+1]])\n",
        "        \n",
        "def clean_text(text):\n",
        "    text = text.lower()\n",
        "    text = re.sub(r\"i'm\", \"i am\", text)\n",
        "    text = re.sub(r\"he's\", \"he is\", text)\n",
        "    text = re.sub(r\"she's\", \"she is\", text)\n",
        "    text = re.sub(r\"it's\", \"it is\", text)\n",
        "    text = re.sub(r\"that's\", \"that is\", text)\n",
        "    text = re.sub(r\"what's\", \"that is\", text)\n",
        "    text = re.sub(r\"where's\", \"where is\", text)\n",
        "    text = re.sub(r\"how's\", \"how is\", text)\n",
        "    text = re.sub(r\"\\'ll\", \" will\", text)\n",
        "    text = re.sub(r\"\\'ve\", \" have\", text)\n",
        "    text = re.sub(r\"\\'re\", \" are\", text)\n",
        "    text = re.sub(r\"\\'d\", \" would\", text)\n",
        "    text = re.sub(r\"\\'re\", \" are\", text)\n",
        "    text = re.sub(r\"won't\", \"will not\", text)\n",
        "    text = re.sub(r\"can't\", \"cannot\", text)\n",
        "    text = re.sub(r\"n't\", \" not\", text)\n",
        "    text = re.sub(r\"n'\", \"ng\", text)\n",
        "    text = re.sub(r\"'bout\", \"about\", text)\n",
        "    text = re.sub(r\"'til\", \"until\", text)\n",
        "    text = re.sub(r\"[-()\\\"#/@;:<>{}`+=~|.!?,]\", \"\", text)\n",
        "    return ' '.join([i.strip() for i in filter(None, text.split())])\n",
        "\n",
        "clean_questions = []\n",
        "for question in questions:\n",
        "    clean_questions.append(clean_text(question))\n",
        "    \n",
        "clean_answers = []    \n",
        "for answer in answers:\n",
        "    clean_answers.append(clean_text(answer))\n",
        "    \n",
        "min_line_length = 2\n",
        "max_line_length = 5\n",
        "short_questions_temp = []\n",
        "short_answers_temp = []\n",
        "\n",
        "i = 0\n",
        "for question in clean_questions:\n",
        "    if len(question.split()) >= min_line_length and len(question.split()) <= max_line_length:\n",
        "        short_questions_temp.append(question)\n",
        "        short_answers_temp.append(clean_answers[i])\n",
        "    i += 1\n",
        "\n",
        "short_questions = []\n",
        "short_answers = []\n",
        "\n",
        "i = 0\n",
        "for answer in short_answers_temp:\n",
        "    if len(answer.split()) >= min_line_length and len(answer.split()) <= max_line_length:\n",
        "        short_answers.append(answer)\n",
        "        short_questions.append(short_questions_temp[i])\n",
        "    i += 1\n",
        "\n",
        "question_test = short_questions[500:550]\n",
        "answer_test = short_answers[500:550]\n",
        "short_questions = short_questions[:500]\n",
        "short_answers = short_answers[:500]"
      ],
      "execution_count": 0,
      "outputs": []
    },
    {
      "cell_type": "code",
      "metadata": {
        "id": "PM9qCxCBb0cE",
        "colab_type": "code",
        "colab": {}
      },
      "source": [
        "#short_questions_1 = short_questions\n",
        "#short_answers_1 = short_answers\n",
        "\n",
        "#short_questions, question_test, short_answers, answer_test = train_test_split(short_questions_1, short_answers_1, test_size=0.3, random_state=42)"
      ],
      "execution_count": 0,
      "outputs": []
    },
    {
      "cell_type": "code",
      "metadata": {
        "id": "RzU8k8Z0ZQtV",
        "colab_type": "code",
        "outputId": "eeef1fa9-2be2-4b99-a847-adc3add8b533",
        "colab": {
          "base_uri": "https://localhost:8080/",
          "height": 34
        }
      },
      "source": [
        "answer_test[10]"
      ],
      "execution_count": 6,
      "outputs": [
        {
          "output_type": "execute_result",
          "data": {
            "text/plain": [
              "'pecos bill'"
            ]
          },
          "metadata": {
            "tags": []
          },
          "execution_count": 6
        }
      ]
    },
    {
      "cell_type": "code",
      "metadata": {
        "id": "ZZoeTatVZvOw",
        "colab_type": "code",
        "outputId": "71f420c5-e544-4aac-c1f6-ef5893063de0",
        "colab": {
          "base_uri": "https://localhost:8080/",
          "height": 102
        }
      },
      "source": [
        "concat_from = ' '.join(short_questions+question_test).split()\n",
        "vocabulary_size_from = len(list(set(concat_from)))\n",
        "data_from, count_from, dictionary_from, rev_dictionary_from = build_dataset(concat_from, vocabulary_size_from)\n",
        "print('vocab from size: %d'%(vocabulary_size_from))\n",
        "print('Most common words', count_from[4:10])\n",
        "print('Sample data', data_from[:10], [rev_dictionary_from[i] for i in data_from[:10]])\n",
        "print('filtered vocab size:',len(dictionary_from))\n",
        "print(\"% of vocab used: {}%\".format(round(len(dictionary_from)/vocabulary_size_from,4)*100))"
      ],
      "execution_count": 7,
      "outputs": [
        {
          "output_type": "stream",
          "text": [
            "vocab from size: 657\n",
            "Most common words [('you', 132), ('is', 78), ('i', 68), ('what', 51), ('it', 50), ('that', 49)]\n",
            "Sample data [7, 28, 129, 35, 61, 42, 12, 22, 82, 225] ['what', 'good', 'stuff', 'she', 'okay', 'they', 'do', 'to', 'hey', 'sweet']\n",
            "filtered vocab size: 661\n",
            "% of vocab used: 100.61%\n"
          ],
          "name": "stdout"
        }
      ]
    },
    {
      "cell_type": "code",
      "metadata": {
        "id": "inZCd7JkUx-h",
        "colab_type": "code",
        "outputId": "c64b6487-101f-4868-93e8-3f1b98826f88",
        "colab": {
          "base_uri": "https://localhost:8080/",
          "height": 102
        }
      },
      "source": [
        "concat_to = ' '.join(short_answers+answer_test).split()\n",
        "vocabulary_size_to = len(list(set(concat_to)))\n",
        "data_to, count_to, dictionary_to, rev_dictionary_to = build_dataset(concat_to, vocabulary_size_to)\n",
        "print('vocab from size: %d'%(vocabulary_size_to))\n",
        "print('Most common words', count_to[4:10])\n",
        "print('Sample data', data_to[:10], [rev_dictionary_to[i] for i in data_to[:10]])\n",
        "print('filtered vocab size:',len(dictionary_to))\n",
        "print(\"% of vocab used: {}%\".format(round(len(dictionary_to)/vocabulary_size_to,4)*100))"
      ],
      "execution_count": 8,
      "outputs": [
        {
          "output_type": "stream",
          "text": [
            "vocab from size: 660\n",
            "Most common words [('i', 97), ('you', 91), ('is', 62), ('it', 58), ('not', 47), ('what', 39)]\n",
            "Sample data [12, 216, 5, 4, 94, 25, 59, 10, 8, 79] ['the', 'real', 'you', 'i', 'hope', 'so', 'they', 'do', 'not', 'hi']\n",
            "filtered vocab size: 664\n",
            "% of vocab used: 100.61%\n"
          ],
          "name": "stdout"
        }
      ]
    },
    {
      "cell_type": "code",
      "metadata": {
        "id": "3b-s7yOFUx76",
        "colab_type": "code",
        "colab": {}
      },
      "source": [
        "GO = dictionary_from['GO']\n",
        "PAD = dictionary_from['PAD']\n",
        "EOS = dictionary_from['EOS']\n",
        "UNK = dictionary_from['UNK']"
      ],
      "execution_count": 0,
      "outputs": []
    },
    {
      "cell_type": "code",
      "metadata": {
        "id": "1BQ5Ikq4Ux5z",
        "colab_type": "code",
        "colab": {}
      },
      "source": [
        "for i in range(len(short_answers)):\n",
        "    short_answers[i] += ' EOS'\n"
      ],
      "execution_count": 0,
      "outputs": []
    },
    {
      "cell_type": "code",
      "metadata": {
        "id": "0IQVlQN5E1HI",
        "colab_type": "code",
        "colab": {}
      },
      "source": [
        "def layer_norm(inputs, epsilon=1e-8):\n",
        "    mean, variance = tf.nn.moments(inputs, [-1], keep_dims=True)\n",
        "    normalized = (inputs - mean) / (tf.sqrt(variance + epsilon))\n",
        "\n",
        "    params_shape = inputs.get_shape()[-1:]\n",
        "    gamma = tf.get_variable('gamma', params_shape, tf.float32, tf.ones_initializer())\n",
        "    beta = tf.get_variable('beta', params_shape, tf.float32, tf.zeros_initializer())\n",
        "    \n",
        "    outputs = gamma * normalized + beta\n",
        "    return outputs\n",
        "\n",
        "\n",
        "def multihead_attn(queries, keys, q_masks, k_masks, future_binding, num_units, num_heads):\n",
        "    \n",
        "    T_q = tf.shape(queries)[1]                                      \n",
        "    T_k = tf.shape(keys)[1]                  \n",
        "\n",
        "    Q = tf.layers.dense(queries, num_units, name='Q')                              \n",
        "    K_V = tf.layers.dense(keys, 2*num_units, name='K_V')    \n",
        "    K, V = tf.split(K_V, 2, -1)        \n",
        "\n",
        "    Q_ = tf.concat(tf.split(Q, num_heads, axis=2), axis=0)                         \n",
        "    K_ = tf.concat(tf.split(K, num_heads, axis=2), axis=0)                    \n",
        "    V_ = tf.concat(tf.split(V, num_heads, axis=2), axis=0)                      \n",
        "\n",
        "    align = tf.matmul(Q_, tf.transpose(K_, [0,2,1]))                      \n",
        "    align = align / np.sqrt(K_.get_shape().as_list()[-1])                 \n",
        "\n",
        "    paddings = tf.fill(tf.shape(align), float('-inf'))                   \n",
        "\n",
        "    key_masks = k_masks                                                 \n",
        "    key_masks = tf.tile(key_masks, [num_heads, 1])                       \n",
        "    key_masks = tf.tile(tf.expand_dims(key_masks, 1), [1, T_q, 1])            \n",
        "    align = tf.where(tf.equal(key_masks, 0), paddings, align)       \n",
        "\n",
        "    if future_binding:\n",
        "        lower_tri = tf.ones([T_q, T_k])                                          \n",
        "        lower_tri = tf.linalg.LinearOperatorLowerTriangular(lower_tri).to_dense()  \n",
        "        masks = tf.tile(tf.expand_dims(lower_tri,0), [tf.shape(align)[0], 1, 1]) \n",
        "        align = tf.where(tf.equal(masks, 0), paddings, align)                      \n",
        "    \n",
        "    align = tf.nn.softmax(align)                                            \n",
        "    query_masks = tf.to_float(q_masks)                                             \n",
        "    query_masks = tf.tile(query_masks, [num_heads, 1])                             \n",
        "    query_masks = tf.tile(tf.expand_dims(query_masks, -1), [1, 1, T_k])            \n",
        "    align *= query_masks                                                           \n",
        "          \n",
        "    outputs = tf.matmul(align, V_)                                                 \n",
        "    outputs = tf.concat(tf.split(outputs, num_heads, axis=0), axis=2)             \n",
        "    outputs += queries                                                             \n",
        "    outputs = layer_norm(outputs)                                                 \n",
        "    return outputs\n",
        "\n",
        "\n",
        "def pointwise_feedforward(inputs, hidden_units, activation=None):\n",
        "    outputs = tf.layers.dense(inputs, 4*hidden_units, activation=activation)\n",
        "    outputs = tf.layers.dense(outputs, hidden_units, activation=None)\n",
        "    outputs += inputs\n",
        "    outputs = layer_norm(outputs)\n",
        "    return outputs\n",
        "\n",
        "\n",
        "def learned_position_encoding(inputs, mask, embed_dim):\n",
        "    T = tf.shape(inputs)[1]\n",
        "    outputs = tf.range(tf.shape(inputs)[1])                # (T_q)\n",
        "    outputs = tf.expand_dims(outputs, 0)                   # (1, T_q)\n",
        "    outputs = tf.tile(outputs, [tf.shape(inputs)[0], 1])   # (N, T_q)\n",
        "    outputs = embed_seq(outputs, T, embed_dim, zero_pad=False, scale=False)\n",
        "    return tf.expand_dims(tf.to_float(mask), -1) * outputs\n",
        "\n",
        "\n",
        "def sinusoidal_position_encoding(inputs, mask, repr_dim):\n",
        "    T = tf.shape(inputs)[1]\n",
        "    pos = tf.reshape(tf.range(0.0, tf.to_float(T), dtype=tf.float32), [-1, 1])\n",
        "    i = np.arange(0, repr_dim, 2, np.float32)\n",
        "    denom = np.reshape(np.power(10000.0, i / repr_dim), [1, -1])\n",
        "    enc = tf.expand_dims(tf.concat([tf.sin(pos / denom), tf.cos(pos / denom)], 1), 0)\n",
        "    return tf.tile(enc, [tf.shape(inputs)[0], 1, 1]) * tf.expand_dims(tf.to_float(mask), -1)\n",
        "\n",
        "\n",
        "def label_smoothing(inputs, epsilon=0.1):\n",
        "    C = inputs.get_shape().as_list()[-1]\n",
        "    return ((1 - epsilon) * inputs) + (epsilon / C)\n",
        "\n",
        "\n",
        "class Chatbot:\n",
        "    def __init__(self, size_layer, embedded_size, from_dict_size, to_dict_size, learning_rate,\n",
        "                 num_blocks = 2,\n",
        "                 num_heads = 8,\n",
        "                 min_freq = 50):\n",
        "        self.X = tf.placeholder(tf.int32,[None,None])\n",
        "        self.Y = tf.placeholder(tf.int32,[None,None])\n",
        "        \n",
        "        self.X_seq_len = tf.count_nonzero(self.X, 1, dtype=tf.int32)\n",
        "        self.Y_seq_len = tf.count_nonzero(self.Y, 1, dtype=tf.int32)\n",
        "        batch_size = tf.shape(self.X)[0]\n",
        "        \n",
        "        encoder_embedding = tf.Variable(tf.random_uniform([from_dict_size, embedded_size], -1, 1))\n",
        "        decoder_embedding = tf.Variable(tf.random_uniform([to_dict_size, embedded_size], -1, 1))\n",
        "        \n",
        "        main = tf.strided_slice(self.Y, [0, 0], [batch_size, -1], [1, 1])\n",
        "        decoder_input = tf.concat([tf.fill([batch_size, 1], GO), main], 1)\n",
        "        \n",
        "        def forward(x, y):\n",
        "            encoder_embedded = tf.nn.embedding_lookup(encoder_embedding, x)\n",
        "            en_masks = tf.sign(x)\n",
        "            encoder_embedded += sinusoidal_position_encoding(x, en_masks, embedded_size)\n",
        "        \n",
        "            for i in range(num_blocks):\n",
        "                with tf.variable_scope('encoder_self_attn_%d'%i,reuse=tf.AUTO_REUSE):\n",
        "                    encoder_embedded = multihead_attn(queries = encoder_embedded,\n",
        "                                             keys = encoder_embedded,\n",
        "                                             q_masks = en_masks,\n",
        "                                             k_masks = en_masks,\n",
        "                                             future_binding = False,\n",
        "                                             num_units = size_layer,\n",
        "                                             num_heads = num_heads)\n",
        "\n",
        "                with tf.variable_scope('encoder_feedforward_%d'%i,reuse=tf.AUTO_REUSE):\n",
        "                    encoder_embedded = pointwise_feedforward(encoder_embedded,\n",
        "                                                    embedded_size,\n",
        "                                                    activation = tf.nn.relu)\n",
        "            \n",
        "            decoder_embedded = tf.nn.embedding_lookup(decoder_embedding, y)\n",
        "            de_masks = tf.sign(y)\n",
        "            decoder_embedded += sinusoidal_position_encoding(y, de_masks, embedded_size)\n",
        "            \n",
        "            for i in range(num_blocks):\n",
        "                with tf.variable_scope('decoder_self_attn_%d'%i,reuse=tf.AUTO_REUSE):\n",
        "                    decoder_embedded = multihead_attn(queries = decoder_embedded,\n",
        "                                         keys = decoder_embedded,\n",
        "                                         q_masks = de_masks,\n",
        "                                         k_masks = de_masks,\n",
        "                                         future_binding = True,\n",
        "                                         num_units = size_layer,\n",
        "                                         num_heads = num_heads)\n",
        "                \n",
        "                with tf.variable_scope('decoder_attn_%d'%i,reuse=tf.AUTO_REUSE):\n",
        "                    decoder_embedded = multihead_attn(queries = decoder_embedded,\n",
        "                                         keys = encoder_embedded,\n",
        "                                         q_masks = de_masks,\n",
        "                                         k_masks = en_masks,\n",
        "                                         future_binding = False,\n",
        "                                         num_units = size_layer,\n",
        "                                         num_heads = num_heads)\n",
        "                \n",
        "                with tf.variable_scope('decoder_feedforward_%d'%i,reuse=tf.AUTO_REUSE):\n",
        "                    decoder_embedded = pointwise_feedforward(decoder_embedded,\n",
        "                                                    embedded_size,\n",
        "                                            activation = tf.nn.relu)\n",
        "            \n",
        "            return tf.layers.dense(decoder_embedded, to_dict_size, reuse=tf.AUTO_REUSE)\n",
        "        \n",
        "        self.training_logits = forward(self.X, decoder_input)\n",
        "        \n",
        "        def cond(i, y, temp):\n",
        "            return i < 2 * tf.reduce_max(self.X_seq_len)\n",
        "        \n",
        "        def body(i, y, temp):\n",
        "            logits = forward(self.X, y)\n",
        "            ids = tf.argmax(logits, -1)[:, i]\n",
        "            ids = tf.expand_dims(ids, -1)\n",
        "            temp = tf.concat([temp[:, 1:], ids], -1)\n",
        "            y = tf.concat([temp[:, -(i+1):], temp[:, :-(i+1)]], -1)\n",
        "            y = tf.reshape(y, [tf.shape(temp)[0], 2 * tf.reduce_max(self.X_seq_len)])\n",
        "            i += 1\n",
        "            return i, y, temp\n",
        "        \n",
        "        target = tf.fill([batch_size, 2 * tf.reduce_max(self.X_seq_len)], GO)\n",
        "        target = tf.cast(target, tf.int64)\n",
        "        self.target = target\n",
        "        \n",
        "        _, self.predicting_ids, _ = tf.while_loop(cond, body, \n",
        "                                                  [tf.constant(0), target, target])\n",
        "        self.logits = forward(self.X, self.Y)\n",
        "        self.k = tf.placeholder(dtype = tf.int32)\n",
        "        p = tf.nn.softmax(self.logits)\n",
        "        self.topk_logprobs, self.topk_ids = tf.nn.top_k(tf.log(p), self.k)\n",
        "        \n",
        "        masks = tf.sequence_mask(self.Y_seq_len, tf.reduce_max(self.Y_seq_len), dtype=tf.float32)\n",
        "        self.cost = tf.contrib.seq2seq.sequence_loss(logits = self.training_logits,\n",
        "                                                     targets = self.Y,\n",
        "                                                     weights = masks)\n",
        "        self.optimizer = tf.train.AdamOptimizer(learning_rate = learning_rate).minimize(self.cost)\n",
        "        y_t = tf.argmax(self.training_logits,axis=2)\n",
        "        y_t = tf.cast(y_t, tf.int32)\n",
        "        self.prediction = tf.boolean_mask(y_t, masks)\n",
        "        mask_label = tf.boolean_mask(self.Y, masks)\n",
        "        correct_pred = tf.equal(self.prediction, mask_label)\n",
        "        correct_index = tf.cast(correct_pred, tf.float32)\n",
        "        self.accuracy = tf.reduce_mean(tf.cast(correct_pred, tf.float32))"
      ],
      "execution_count": 0,
      "outputs": []
    },
    {
      "cell_type": "code",
      "metadata": {
        "id": "3NCbA3stE1E1",
        "colab_type": "code",
        "colab": {}
      },
      "source": [
        "embedded_size = 256\n",
        "learning_rate = 0.001\n",
        "batch_size = 32\n",
        "epoch = 30"
      ],
      "execution_count": 0,
      "outputs": []
    },
    {
      "cell_type": "code",
      "metadata": {
        "id": "Vd7nUqUHE1Cd",
        "colab_type": "code",
        "outputId": "0958a257-ab2a-4665-c6ec-91091845a083",
        "colab": {
          "base_uri": "https://localhost:8080/",
          "height": 465
        }
      },
      "source": [
        "tf.reset_default_graph()\n",
        "sess = tf.InteractiveSession()\n",
        "model = Chatbot(embedded_size, embedded_size, len(dictionary_from), \n",
        "                len(dictionary_to), learning_rate)\n",
        "sess.run(tf.global_variables_initializer())"
      ],
      "execution_count": 13,
      "outputs": [
        {
          "output_type": "stream",
          "text": [
            "WARNING: Logging before flag parsing goes to stderr.\n",
            "W0630 06:45:04.867614 139650174265216 deprecation.py:506] From /usr/local/lib/python3.6/dist-packages/tensorflow/python/util/deprecation.py:507: calling count_nonzero (from tensorflow.python.ops.math_ops) with axis is deprecated and will be removed in a future version.\n",
            "Instructions for updating:\n",
            "reduction_indices is deprecated, use axis instead\n",
            "W0630 06:45:04.942063 139650174265216 deprecation.py:323] From <ipython-input-11-5e5fcb52844e>:74: to_float (from tensorflow.python.ops.math_ops) is deprecated and will be removed in a future version.\n",
            "Instructions for updating:\n",
            "Use `tf.cast` instead.\n",
            "W0630 06:45:04.967348 139650174265216 deprecation.py:323] From <ipython-input-11-5e5fcb52844e>:18: dense (from tensorflow.python.layers.core) is deprecated and will be removed in a future version.\n",
            "Instructions for updating:\n",
            "Use keras.layers.dense instead.\n",
            "W0630 06:45:04.971327 139650174265216 deprecation.py:506] From /usr/local/lib/python3.6/dist-packages/tensorflow/python/ops/init_ops.py:1251: calling VarianceScaling.__init__ (from tensorflow.python.ops.init_ops) with dtype is deprecated and will be removed in a future version.\n",
            "Instructions for updating:\n",
            "Call initializer instance with the dtype argument instead of passing it to the constructor\n",
            "W0630 06:45:05.284476 139650174265216 deprecation.py:323] From <ipython-input-11-5e5fcb52844e>:34: add_dispatch_support.<locals>.wrapper (from tensorflow.python.ops.array_ops) is deprecated and will be removed in a future version.\n",
            "Instructions for updating:\n",
            "Use tf.where in 2.0, which has the same broadcast rule as np.where\n",
            "W0630 06:45:08.837293 139650174265216 lazy_loader.py:50] \n",
            "The TensorFlow contrib module will not be included in TensorFlow 2.0.\n",
            "For more information, please see:\n",
            "  * https://github.com/tensorflow/community/blob/master/rfcs/20180907-contrib-sunset.md\n",
            "  * https://github.com/tensorflow/addons\n",
            "  * https://github.com/tensorflow/io (for I/O related ops)\n",
            "If you depend on functionality not listed there, please file an issue.\n",
            "\n"
          ],
          "name": "stderr"
        }
      ]
    },
    {
      "cell_type": "code",
      "metadata": {
        "id": "XcQbmlj3E0_r",
        "colab_type": "code",
        "colab": {}
      },
      "source": [
        "def str_idx(corpus, dic):\n",
        "    X = []\n",
        "    for i in corpus:\n",
        "        ints = []\n",
        "        for k in i.split():\n",
        "            ints.append(dic.get(k,UNK))\n",
        "        X.append(ints)\n",
        "    return X"
      ],
      "execution_count": 0,
      "outputs": []
    },
    {
      "cell_type": "code",
      "metadata": {
        "id": "XWyEN_IOE08_",
        "colab_type": "code",
        "colab": {}
      },
      "source": [
        "X = str_idx(short_questions, dictionary_from)\n",
        "Y = str_idx(short_answers, dictionary_to)\n",
        "X_test = str_idx(question_test, dictionary_from)\n",
        "Y_test = str_idx(answer_test, dictionary_from)"
      ],
      "execution_count": 0,
      "outputs": []
    },
    {
      "cell_type": "code",
      "metadata": {
        "id": "NOmtXXmeE05z",
        "colab_type": "code",
        "colab": {}
      },
      "source": [
        "def pad_sentence_batch(sentence_batch, pad_int):\n",
        "    padded_seqs = []\n",
        "    seq_lens = []\n",
        "    max_sentence_len = max([len(sentence) for sentence in sentence_batch])\n",
        "    for sentence in sentence_batch:\n",
        "        padded_seqs.append(sentence + [pad_int] * (max_sentence_len - len(sentence)))\n",
        "        seq_lens.append(len(sentence))\n",
        "    return padded_seqs, seq_lens"
      ],
      "execution_count": 0,
      "outputs": []
    },
    {
      "cell_type": "code",
      "metadata": {
        "id": "dOxNiyInGg7x",
        "colab_type": "code",
        "outputId": "fa351f48-10e3-4a2c-a3fe-d409497f4070",
        "colab": {
          "base_uri": "https://localhost:8080/",
          "height": 731
        }
      },
      "source": [
        "for i in range(epoch):\n",
        "    total_loss, total_accuracy = 0, 0\n",
        "    score = 0\n",
        "    for k in range(0, len(short_questions), batch_size):\n",
        "        index = min(k+batch_size, len(short_questions))\n",
        "        batch_x, seq_x = pad_sentence_batch(X[k: index], PAD)\n",
        "        batch_y, seq_y = pad_sentence_batch(Y[k: index], PAD)\n",
        "        predicted, accuracy,loss, _ = sess.run([model.predicting_ids, \n",
        "                                                model.accuracy, model.cost, model.optimizer], \n",
        "                                      feed_dict={model.X:batch_x,\n",
        "                                                model.Y:batch_y})\n",
        "        total_loss += loss\n",
        "        total_accuracy += accuracy\n",
        "        for j in range(len(batch_x)):          \n",
        "          predicted_sent = [rev_dictionary_to[n] for n in predicted[j] if n not in[0,1,2,3]]\n",
        "          #print(predicted_sent)\n",
        "          real_sent = [[rev_dictionary_to[n] for n in batch_y[j] if n not in[0,1,2,3]]]\n",
        "          #print(real_sent)\n",
        "          score += sentence_bleu(real_sent, predicted_sent)\n",
        "          #print(score)\n",
        "       \n",
        "    \n",
        "    total_loss /= (len(short_questions) / batch_size)\n",
        "    total_accuracy /= (len(short_questions) / batch_size)\n",
        "    score /= len(short_questions)\n",
        "    print('epoch: %d, avg loss: %f, avg acore: %f'%(i+1, total_loss, score))\n",
        "    "
      ],
      "execution_count": 17,
      "outputs": [
        {
          "output_type": "stream",
          "text": [
            "/usr/local/lib/python3.6/dist-packages/nltk/translate/bleu_score.py:490: UserWarning: \n",
            "Corpus/Sentence contains 0 counts of 2-gram overlaps.\n",
            "BLEU scores might be undesirable; use SmoothingFunction().\n",
            "  warnings.warn(_msg)\n"
          ],
          "name": "stderr"
        },
        {
          "output_type": "stream",
          "text": [
            "epoch: 1, avg loss: 5.518853, avg acore: 0.014298\n",
            "epoch: 2, avg loss: 4.914070, avg acore: 0.035639\n",
            "epoch: 3, avg loss: 4.714324, avg acore: 0.106535\n"
          ],
          "name": "stdout"
        },
        {
          "output_type": "stream",
          "text": [
            "/usr/local/lib/python3.6/dist-packages/nltk/translate/bleu_score.py:490: UserWarning: \n",
            "Corpus/Sentence contains 0 counts of 3-gram overlaps.\n",
            "BLEU scores might be undesirable; use SmoothingFunction().\n",
            "  warnings.warn(_msg)\n",
            "/usr/local/lib/python3.6/dist-packages/nltk/translate/bleu_score.py:490: UserWarning: \n",
            "Corpus/Sentence contains 0 counts of 4-gram overlaps.\n",
            "BLEU scores might be undesirable; use SmoothingFunction().\n",
            "  warnings.warn(_msg)\n"
          ],
          "name": "stderr"
        },
        {
          "output_type": "stream",
          "text": [
            "epoch: 4, avg loss: 4.454234, avg acore: 0.152397\n",
            "epoch: 5, avg loss: 3.953941, avg acore: 0.179479\n",
            "epoch: 6, avg loss: 3.338601, avg acore: 0.175223\n",
            "epoch: 7, avg loss: 2.862600, avg acore: 0.244637\n",
            "epoch: 8, avg loss: 2.390433, avg acore: 0.260556\n",
            "epoch: 9, avg loss: 1.961981, avg acore: 0.321830\n",
            "epoch: 10, avg loss: 1.426718, avg acore: 0.446042\n",
            "epoch: 11, avg loss: 0.976108, avg acore: 0.555958\n",
            "epoch: 12, avg loss: 0.689466, avg acore: 0.636162\n",
            "epoch: 13, avg loss: 0.422812, avg acore: 0.681756\n",
            "epoch: 14, avg loss: 0.255749, avg acore: 0.717267\n",
            "epoch: 15, avg loss: 0.185713, avg acore: 0.717525\n",
            "epoch: 16, avg loss: 0.115562, avg acore: 0.746054\n",
            "epoch: 17, avg loss: 0.095704, avg acore: 0.756520\n",
            "epoch: 18, avg loss: 0.074081, avg acore: 0.747697\n",
            "epoch: 19, avg loss: 0.056482, avg acore: 0.760690\n",
            "epoch: 20, avg loss: 0.052608, avg acore: 0.759089\n",
            "epoch: 21, avg loss: 0.045778, avg acore: 0.774458\n",
            "epoch: 22, avg loss: 0.037114, avg acore: 0.762204\n",
            "epoch: 23, avg loss: 0.036795, avg acore: 0.775534\n",
            "epoch: 24, avg loss: 0.036124, avg acore: 0.775347\n",
            "epoch: 25, avg loss: 0.032522, avg acore: 0.765448\n",
            "epoch: 26, avg loss: 0.030754, avg acore: 0.788525\n",
            "epoch: 27, avg loss: 0.029333, avg acore: 0.786163\n",
            "epoch: 28, avg loss: 0.028262, avg acore: 0.787016\n",
            "epoch: 29, avg loss: 0.027357, avg acore: 0.785558\n",
            "epoch: 30, avg loss: 0.027033, avg acore: 0.785272\n"
          ],
          "name": "stdout"
        }
      ]
    },
    {
      "cell_type": "code",
      "metadata": {
        "id": "-hqted6In13b",
        "colab_type": "code",
        "outputId": "85561bf6-04b8-4532-8148-858048cd739e",
        "colab": {
          "base_uri": "https://localhost:8080/",
          "height": 255
        }
      },
      "source": [
        "total_loss, total_accuracy = 0, 0\n",
        "score=0\n",
        "for k in range(0, len(question_test), batch_size):\n",
        "  index = min(k+batch_size, len(question_test))\n",
        "  batch_x, seq_x = pad_sentence_batch(X_test[:batch_size], PAD)\n",
        "  batch_y, seq_y = pad_sentence_batch(Y_test[:batch_size], PAD)\n",
        "  predicted, accuracy,loss, _ = sess.run([model.predicting_ids, \n",
        "                                                model.accuracy, model.cost, model.optimizer], \n",
        "                                      feed_dict={model.X:batch_x,\n",
        "                                                model.Y:batch_y})\n",
        "  total_loss += loss\n",
        "  total_accuracy += accuracy\n",
        "        \n",
        "        \n",
        "  for j in range(len(batch_x)):          \n",
        "    predicted_sent = [rev_dictionary_to[n] for n in predicted[j] if n not in[0,1,2,3]]\n",
        "    real_sent = [[rev_dictionary_to[n] for n in batch_y[j] if n not in[0,1,2,3]]]\n",
        "    score += sentence_bleu(real_sent, predicted_sent)\n",
        "          \n",
        "print(score)\n",
        "total_loss /= (len(question_test) / batch_size)\n",
        "total_accuracy /= (len(question_test) / batch_size)\n",
        "score /= len(question_test)\n",
        "print('avg loss: %f, avg accuracy: %f, avg acore: %f'%(total_loss, total_accuracy, score))"
      ],
      "execution_count": 20,
      "outputs": [
        {
          "output_type": "stream",
          "text": [
            "32.47121926211938\n",
            "avg loss: 2.970274, avg accuracy: 0.718597, avg acore: 0.649424\n"
          ],
          "name": "stdout"
        },
        {
          "output_type": "stream",
          "text": [
            "/usr/local/lib/python3.6/dist-packages/nltk/translate/bleu_score.py:490: UserWarning: \n",
            "Corpus/Sentence contains 0 counts of 3-gram overlaps.\n",
            "BLEU scores might be undesirable; use SmoothingFunction().\n",
            "  warnings.warn(_msg)\n",
            "/usr/local/lib/python3.6/dist-packages/nltk/translate/bleu_score.py:490: UserWarning: \n",
            "Corpus/Sentence contains 0 counts of 2-gram overlaps.\n",
            "BLEU scores might be undesirable; use SmoothingFunction().\n",
            "  warnings.warn(_msg)\n",
            "/usr/local/lib/python3.6/dist-packages/nltk/translate/bleu_score.py:490: UserWarning: \n",
            "Corpus/Sentence contains 0 counts of 4-gram overlaps.\n",
            "BLEU scores might be undesirable; use SmoothingFunction().\n",
            "  warnings.warn(_msg)\n"
          ],
          "name": "stderr"
        }
      ]
    }
  ]
}